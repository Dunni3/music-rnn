{
 "cells": [
  {
   "cell_type": "code",
   "execution_count": 1,
   "id": "b80d772b-fdf8-490c-88fd-eeb58acd5792",
   "metadata": {},
   "outputs": [],
   "source": [
    "# import fluidsynth\n",
    "import glob\n",
    "import numpy as np\n",
    "import pandas as pd\n",
    "import pretty_midi\n",
    "import collections\n",
    "from pathlib import Path\n",
    "from IPython import display\n",
    "\n",
    "import torch\n",
    "from torch.utils.data import Dataset, DataLoader\n",
    "from torch import nn\n",
    "\n",
    "%matplotlib inline\n",
    "from matplotlib import pyplot as plt"
   ]
  },
  {
   "cell_type": "markdown",
   "id": "5a9224a6-9786-4541-80f9-efbdee906b2f",
   "metadata": {},
   "source": [
    "recreate the model that was used for training - which is located in  `./baseline_1/train_baseline.py`"
   ]
  },
  {
   "cell_type": "code",
   "execution_count": 7,
   "id": "d470c2b6-2280-4d80-9644-671956d21050",
   "metadata": {},
   "outputs": [],
   "source": [
    "from baseline_1.train_baseline import PianoRollLSTM\n",
    "from right_chords.train import ChordLSTM, FullChord, get_preprocessed_files\n",
    "        \n",
    "# model = PianoRollLSTM(separate=False)\n",
    "model = ChordLSTM()"
   ]
  },
  {
   "cell_type": "markdown",
   "id": "de08db8f-103f-4fc6-8c59-29ecb80ba97d",
   "metadata": {},
   "source": [
    "load the model state and it put it in eval mode"
   ]
  },
  {
   "cell_type": "code",
   "execution_count": 5,
   "id": "4628071a-a412-4679-ab89-d6b7fcbfb398",
   "metadata": {},
   "outputs": [
    {
     "data": {
      "text/plain": [
       "ChordLSTM(\n",
       "  (lstm): LSTM(1848, 231, batch_first=True)\n",
       "  (predict_layer): Sequential(\n",
       "    (0): Linear(in_features=231, out_features=1848, bias=True)\n",
       "    (1): Softmax(dim=2)\n",
       "  )\n",
       ")"
      ]
     },
     "execution_count": 5,
     "metadata": {},
     "output_type": "execute_result"
    }
   ],
   "source": [
    "model_weights_file = 'right_chords/model_weights_iter1000.pth'\n",
    "model.load_state_dict(torch.load(model_weights_file))\n",
    "model.eval()"
   ]
  },
  {
   "cell_type": "code",
   "execution_count": null,
   "id": "66e37013-6c92-48d8-a11f-9e03b1b725e4",
   "metadata": {},
   "outputs": [],
   "source": []
  }
 ],
 "metadata": {
  "kernelspec": {
   "display_name": "Python 3",
   "language": "python",
   "name": "python3"
  },
  "language_info": {
   "codemirror_mode": {
    "name": "ipython",
    "version": 3
   },
   "file_extension": ".py",
   "mimetype": "text/x-python",
   "name": "python",
   "nbconvert_exporter": "python",
   "pygments_lexer": "ipython3",
   "version": "3.9.7"
  }
 },
 "nbformat": 4,
 "nbformat_minor": 5
}
